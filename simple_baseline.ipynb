{
 "cells": [
  {
   "cell_type": "code",
   "execution_count": 1286,
   "metadata": {},
   "outputs": [
    {
     "name": "stderr",
     "output_type": "stream",
     "text": [
      "/Library/Frameworks/Python.framework/Versions/3.7/lib/python3.7/site-packages/IPython/core/interactiveshell.py:3049: DtypeWarning: Columns (30) have mixed types. Specify dtype option on import or set low_memory=False.\n",
      "  interactivity=interactivity, compiler=compiler, result=result)\n"
     ]
    },
    {
     "data": {
      "text/plain": [
       "17881    195.0\n",
       "Name: price, dtype: float64"
      ]
     },
     "execution_count": 1286,
     "metadata": {},
     "output_type": "execute_result"
    }
   ],
   "source": [
    "import pandas as pd\n",
    "from sklearn.model_selection import train_test_split\n",
    "from sklearn.metrics import mean_squared_error\n",
    "import math\n",
    "import random\n",
    "from sklearn.preprocessing import PolynomialFeatures, StandardScaler\n",
    "\n",
    "\n",
    "np.random.seed(38)\n",
    "random.seed(38)\n",
    "\n",
    "og_df = pd.read_csv('train.csv')\n",
    "df = pd.read_csv('train.csv')\n",
    "df.loc[df['id'] == 23807600, 'price']"
   ]
  },
  {
   "cell_type": "code",
   "execution_count": 1287,
   "metadata": {},
   "outputs": [],
   "source": [
    "X = df.copy().drop('price', axis = 1)\n",
    "y = df['price'].copy()"
   ]
  },
  {
   "cell_type": "code",
   "execution_count": 1288,
   "metadata": {},
   "outputs": [],
   "source": [
    "X_train, X_test, y_train, y_test = train_test_split(X, y)\n",
    "\n",
    "df = X_train"
   ]
  },
  {
   "cell_type": "code",
   "execution_count": null,
   "metadata": {},
   "outputs": [],
   "source": []
  },
  {
   "cell_type": "code",
   "execution_count": 1289,
   "metadata": {},
   "outputs": [
    {
     "name": "stdout",
     "output_type": "stream",
     "text": [
      "25153\n"
     ]
    }
   ],
   "source": [
    "print(len(df))"
   ]
  },
  {
   "cell_type": "code",
   "execution_count": 1290,
   "metadata": {},
   "outputs": [
    {
     "data": {
      "text/html": [
       "<div>\n",
       "<style scoped>\n",
       "    .dataframe tbody tr th:only-of-type {\n",
       "        vertical-align: middle;\n",
       "    }\n",
       "\n",
       "    .dataframe tbody tr th {\n",
       "        vertical-align: top;\n",
       "    }\n",
       "\n",
       "    .dataframe thead th {\n",
       "        text-align: right;\n",
       "    }\n",
       "</style>\n",
       "<table border=\"1\" class=\"dataframe\">\n",
       "  <thead>\n",
       "    <tr style=\"text-align: right;\">\n",
       "      <th></th>\n",
       "      <th>id</th>\n",
       "      <th>host_id</th>\n",
       "      <th>host_acceptance_rate</th>\n",
       "      <th>host_listings_count</th>\n",
       "      <th>accommodates</th>\n",
       "      <th>bathrooms</th>\n",
       "      <th>bedrooms</th>\n",
       "      <th>beds</th>\n",
       "      <th>square_feet</th>\n",
       "      <th>guests_included</th>\n",
       "      <th>...</th>\n",
       "      <th>number_of_reviews</th>\n",
       "      <th>review_scores_rating</th>\n",
       "      <th>review_scores_accuracy</th>\n",
       "      <th>review_scores_cleanliness</th>\n",
       "      <th>review_scores_checkin</th>\n",
       "      <th>review_scores_communication</th>\n",
       "      <th>review_scores_location</th>\n",
       "      <th>review_scores_value</th>\n",
       "      <th>calculated_host_listings_count</th>\n",
       "      <th>reviews_per_month</th>\n",
       "    </tr>\n",
       "  </thead>\n",
       "  <tbody>\n",
       "    <tr>\n",
       "      <th>count</th>\n",
       "      <td>2.515300e+04</td>\n",
       "      <td>2.515300e+04</td>\n",
       "      <td>0.0</td>\n",
       "      <td>25149.000000</td>\n",
       "      <td>25153.000000</td>\n",
       "      <td>25103.000000</td>\n",
       "      <td>25134.000000</td>\n",
       "      <td>25133.000000</td>\n",
       "      <td>256.000000</td>\n",
       "      <td>25153.000000</td>\n",
       "      <td>...</td>\n",
       "      <td>25153.000000</td>\n",
       "      <td>19398.000000</td>\n",
       "      <td>19376.000000</td>\n",
       "      <td>19387.000000</td>\n",
       "      <td>19362.000000</td>\n",
       "      <td>19376.000000</td>\n",
       "      <td>19363.000000</td>\n",
       "      <td>19360.000000</td>\n",
       "      <td>25153.000000</td>\n",
       "      <td>19930.000000</td>\n",
       "    </tr>\n",
       "    <tr>\n",
       "      <th>mean</th>\n",
       "      <td>1.565451e+07</td>\n",
       "      <td>5.421677e+07</td>\n",
       "      <td>NaN</td>\n",
       "      <td>9.826713</td>\n",
       "      <td>2.856121</td>\n",
       "      <td>1.140302</td>\n",
       "      <td>1.177847</td>\n",
       "      <td>1.568575</td>\n",
       "      <td>749.539062</td>\n",
       "      <td>1.505347</td>\n",
       "      <td>...</td>\n",
       "      <td>21.526220</td>\n",
       "      <td>93.781575</td>\n",
       "      <td>9.600227</td>\n",
       "      <td>9.259555</td>\n",
       "      <td>9.738767</td>\n",
       "      <td>9.755729</td>\n",
       "      <td>9.505810</td>\n",
       "      <td>9.377273</td>\n",
       "      <td>3.983421</td>\n",
       "      <td>1.419801</td>\n",
       "    </tr>\n",
       "    <tr>\n",
       "      <th>std</th>\n",
       "      <td>8.795408e+06</td>\n",
       "      <td>6.143621e+07</td>\n",
       "      <td>NaN</td>\n",
       "      <td>84.489958</td>\n",
       "      <td>1.855939</td>\n",
       "      <td>0.411683</td>\n",
       "      <td>0.747867</td>\n",
       "      <td>1.057797</td>\n",
       "      <td>620.518542</td>\n",
       "      <td>1.122781</td>\n",
       "      <td>...</td>\n",
       "      <td>40.441832</td>\n",
       "      <td>8.281234</td>\n",
       "      <td>0.814303</td>\n",
       "      <td>1.076941</td>\n",
       "      <td>0.696812</td>\n",
       "      <td>0.688818</td>\n",
       "      <td>0.779545</td>\n",
       "      <td>0.883129</td>\n",
       "      <td>12.739250</td>\n",
       "      <td>1.653783</td>\n",
       "    </tr>\n",
       "    <tr>\n",
       "      <th>min</th>\n",
       "      <td>2.515000e+03</td>\n",
       "      <td>2.830000e+02</td>\n",
       "      <td>NaN</td>\n",
       "      <td>0.000000</td>\n",
       "      <td>1.000000</td>\n",
       "      <td>0.000000</td>\n",
       "      <td>0.000000</td>\n",
       "      <td>0.000000</td>\n",
       "      <td>0.000000</td>\n",
       "      <td>1.000000</td>\n",
       "      <td>...</td>\n",
       "      <td>0.000000</td>\n",
       "      <td>20.000000</td>\n",
       "      <td>2.000000</td>\n",
       "      <td>2.000000</td>\n",
       "      <td>2.000000</td>\n",
       "      <td>2.000000</td>\n",
       "      <td>2.000000</td>\n",
       "      <td>2.000000</td>\n",
       "      <td>1.000000</td>\n",
       "      <td>0.010000</td>\n",
       "    </tr>\n",
       "    <tr>\n",
       "      <th>25%</th>\n",
       "      <td>8.146609e+06</td>\n",
       "      <td>7.182520e+06</td>\n",
       "      <td>NaN</td>\n",
       "      <td>1.000000</td>\n",
       "      <td>2.000000</td>\n",
       "      <td>1.000000</td>\n",
       "      <td>1.000000</td>\n",
       "      <td>1.000000</td>\n",
       "      <td>400.000000</td>\n",
       "      <td>1.000000</td>\n",
       "      <td>...</td>\n",
       "      <td>1.000000</td>\n",
       "      <td>91.000000</td>\n",
       "      <td>9.000000</td>\n",
       "      <td>9.000000</td>\n",
       "      <td>10.000000</td>\n",
       "      <td>10.000000</td>\n",
       "      <td>9.000000</td>\n",
       "      <td>9.000000</td>\n",
       "      <td>1.000000</td>\n",
       "      <td>0.210000</td>\n",
       "    </tr>\n",
       "    <tr>\n",
       "      <th>50%</th>\n",
       "      <td>1.633562e+07</td>\n",
       "      <td>2.660013e+07</td>\n",
       "      <td>NaN</td>\n",
       "      <td>1.000000</td>\n",
       "      <td>2.000000</td>\n",
       "      <td>1.000000</td>\n",
       "      <td>1.000000</td>\n",
       "      <td>1.000000</td>\n",
       "      <td>700.000000</td>\n",
       "      <td>1.000000</td>\n",
       "      <td>...</td>\n",
       "      <td>5.000000</td>\n",
       "      <td>96.000000</td>\n",
       "      <td>10.000000</td>\n",
       "      <td>10.000000</td>\n",
       "      <td>10.000000</td>\n",
       "      <td>10.000000</td>\n",
       "      <td>10.000000</td>\n",
       "      <td>10.000000</td>\n",
       "      <td>1.000000</td>\n",
       "      <td>0.760000</td>\n",
       "    </tr>\n",
       "    <tr>\n",
       "      <th>75%</th>\n",
       "      <td>2.276397e+07</td>\n",
       "      <td>8.264632e+07</td>\n",
       "      <td>NaN</td>\n",
       "      <td>2.000000</td>\n",
       "      <td>4.000000</td>\n",
       "      <td>1.000000</td>\n",
       "      <td>1.000000</td>\n",
       "      <td>2.000000</td>\n",
       "      <td>1000.000000</td>\n",
       "      <td>2.000000</td>\n",
       "      <td>...</td>\n",
       "      <td>23.000000</td>\n",
       "      <td>100.000000</td>\n",
       "      <td>10.000000</td>\n",
       "      <td>10.000000</td>\n",
       "      <td>10.000000</td>\n",
       "      <td>10.000000</td>\n",
       "      <td>10.000000</td>\n",
       "      <td>10.000000</td>\n",
       "      <td>2.000000</td>\n",
       "      <td>2.110000</td>\n",
       "    </tr>\n",
       "    <tr>\n",
       "      <th>max</th>\n",
       "      <td>2.977318e+07</td>\n",
       "      <td>2.240015e+08</td>\n",
       "      <td>NaN</td>\n",
       "      <td>2271.000000</td>\n",
       "      <td>16.000000</td>\n",
       "      <td>7.000000</td>\n",
       "      <td>10.000000</td>\n",
       "      <td>16.000000</td>\n",
       "      <td>5000.000000</td>\n",
       "      <td>16.000000</td>\n",
       "      <td>...</td>\n",
       "      <td>557.000000</td>\n",
       "      <td>100.000000</td>\n",
       "      <td>10.000000</td>\n",
       "      <td>10.000000</td>\n",
       "      <td>10.000000</td>\n",
       "      <td>10.000000</td>\n",
       "      <td>10.000000</td>\n",
       "      <td>10.000000</td>\n",
       "      <td>132.000000</td>\n",
       "      <td>19.170000</td>\n",
       "    </tr>\n",
       "  </tbody>\n",
       "</table>\n",
       "<p>8 rows × 22 columns</p>\n",
       "</div>"
      ],
      "text/plain": [
       "                 id       host_id  host_acceptance_rate  host_listings_count  \\\n",
       "count  2.515300e+04  2.515300e+04                   0.0         25149.000000   \n",
       "mean   1.565451e+07  5.421677e+07                   NaN             9.826713   \n",
       "std    8.795408e+06  6.143621e+07                   NaN            84.489958   \n",
       "min    2.515000e+03  2.830000e+02                   NaN             0.000000   \n",
       "25%    8.146609e+06  7.182520e+06                   NaN             1.000000   \n",
       "50%    1.633562e+07  2.660013e+07                   NaN             1.000000   \n",
       "75%    2.276397e+07  8.264632e+07                   NaN             2.000000   \n",
       "max    2.977318e+07  2.240015e+08                   NaN          2271.000000   \n",
       "\n",
       "       accommodates     bathrooms      bedrooms          beds  square_feet  \\\n",
       "count  25153.000000  25103.000000  25134.000000  25133.000000   256.000000   \n",
       "mean       2.856121      1.140302      1.177847      1.568575   749.539062   \n",
       "std        1.855939      0.411683      0.747867      1.057797   620.518542   \n",
       "min        1.000000      0.000000      0.000000      0.000000     0.000000   \n",
       "25%        2.000000      1.000000      1.000000      1.000000   400.000000   \n",
       "50%        2.000000      1.000000      1.000000      1.000000   700.000000   \n",
       "75%        4.000000      1.000000      1.000000      2.000000  1000.000000   \n",
       "max       16.000000      7.000000     10.000000     16.000000  5000.000000   \n",
       "\n",
       "       guests_included  ...  number_of_reviews  review_scores_rating  \\\n",
       "count     25153.000000  ...       25153.000000          19398.000000   \n",
       "mean          1.505347  ...          21.526220             93.781575   \n",
       "std           1.122781  ...          40.441832              8.281234   \n",
       "min           1.000000  ...           0.000000             20.000000   \n",
       "25%           1.000000  ...           1.000000             91.000000   \n",
       "50%           1.000000  ...           5.000000             96.000000   \n",
       "75%           2.000000  ...          23.000000            100.000000   \n",
       "max          16.000000  ...         557.000000            100.000000   \n",
       "\n",
       "       review_scores_accuracy  review_scores_cleanliness  \\\n",
       "count            19376.000000               19387.000000   \n",
       "mean                 9.600227                   9.259555   \n",
       "std                  0.814303                   1.076941   \n",
       "min                  2.000000                   2.000000   \n",
       "25%                  9.000000                   9.000000   \n",
       "50%                 10.000000                  10.000000   \n",
       "75%                 10.000000                  10.000000   \n",
       "max                 10.000000                  10.000000   \n",
       "\n",
       "       review_scores_checkin  review_scores_communication  \\\n",
       "count           19362.000000                 19376.000000   \n",
       "mean                9.738767                     9.755729   \n",
       "std                 0.696812                     0.688818   \n",
       "min                 2.000000                     2.000000   \n",
       "25%                10.000000                    10.000000   \n",
       "50%                10.000000                    10.000000   \n",
       "75%                10.000000                    10.000000   \n",
       "max                10.000000                    10.000000   \n",
       "\n",
       "       review_scores_location  review_scores_value  \\\n",
       "count            19363.000000         19360.000000   \n",
       "mean                 9.505810             9.377273   \n",
       "std                  0.779545             0.883129   \n",
       "min                  2.000000             2.000000   \n",
       "25%                  9.000000             9.000000   \n",
       "50%                 10.000000            10.000000   \n",
       "75%                 10.000000            10.000000   \n",
       "max                 10.000000            10.000000   \n",
       "\n",
       "       calculated_host_listings_count  reviews_per_month  \n",
       "count                    25153.000000       19930.000000  \n",
       "mean                         3.983421           1.419801  \n",
       "std                         12.739250           1.653783  \n",
       "min                          1.000000           0.010000  \n",
       "25%                          1.000000           0.210000  \n",
       "50%                          1.000000           0.760000  \n",
       "75%                          2.000000           2.110000  \n",
       "max                        132.000000          19.170000  \n",
       "\n",
       "[8 rows x 22 columns]"
      ]
     },
     "execution_count": 1290,
     "metadata": {},
     "output_type": "execute_result"
    }
   ],
   "source": [
    "df.describe()"
   ]
  },
  {
   "cell_type": "code",
   "execution_count": 1291,
   "metadata": {},
   "outputs": [],
   "source": [
    "df = pd.read_csv('train.csv')\n",
    "df = df.drop(columns=['name', 'summary', 'space', 'description', 'experiences_offered', 'neighborhood_overview',\\\n",
    "                      'notes', 'transit', 'access', 'interaction', 'house_rules', 'host_id', 'host_name',\\\n",
    "                      'host_since', 'host_location', 'host_about', 'host_response_time', 'host_response_rate',\\\n",
    "                      'host_acceptance_rate', 'host_is_superhost', 'host_neighbourhood', 'host_listings_count',\\\n",
    "                      'host_verifications', 'host_has_profile_pic', 'host_identity_verified', 'neighbourhood_cleansed',\\\n",
    "                      'city', 'state', 'zipcode', 'market', 'country_code', 'country', 'amenities', 'first_review',\\\n",
    "                      'last_review', 'is_business_travel_ready', 'require_guest_profile_picture',\\\n",
    "                      'require_guest_phone_verification', 'calculated_host_listings_count', 'reviews_per_month'])"
   ]
  },
  {
   "cell_type": "code",
   "execution_count": 1292,
   "metadata": {},
   "outputs": [
    {
     "data": {
      "text/plain": [
       "Index(['id', 'neighbourhood_group_cleansed', 'property_type', 'room_type',\n",
       "       'accommodates', 'bathrooms', 'bedrooms', 'beds', 'bed_type',\n",
       "       'square_feet', 'price', 'guests_included', 'extra_people',\n",
       "       'minimum_nights', 'maximum_nights', 'number_of_reviews',\n",
       "       'review_scores_rating', 'review_scores_accuracy',\n",
       "       'review_scores_cleanliness', 'review_scores_checkin',\n",
       "       'review_scores_communication', 'review_scores_location',\n",
       "       'review_scores_value', 'instant_bookable', 'cancellation_policy'],\n",
       "      dtype='object')"
      ]
     },
     "execution_count": 1292,
     "metadata": {},
     "output_type": "execute_result"
    }
   ],
   "source": [
    "df.columns"
   ]
  },
  {
   "cell_type": "code",
   "execution_count": 1293,
   "metadata": {},
   "outputs": [
    {
     "data": {
      "text/plain": [
       "\"\\ndf = df.drop(columns=['square_feet', 'review_scores_rating', 'review_scores_accuracy', 'review_scores_cleanliness',                      'review_scores_checkin', 'review_scores_communication', 'review_scores_location',                      'review_scores_value', 'id', 'maximum_nights', 'instant_bookable'])\\n\""
      ]
     },
     "execution_count": 1293,
     "metadata": {},
     "output_type": "execute_result"
    }
   ],
   "source": [
    "'''\n",
    "df = df.drop(columns=['square_feet', 'review_scores_rating', 'review_scores_accuracy', 'review_scores_cleanliness',\\\n",
    "                      'review_scores_checkin', 'review_scores_communication', 'review_scores_location',\\\n",
    "                      'review_scores_value', 'id', 'maximum_nights', 'instant_bookable'])\n",
    "'''"
   ]
  },
  {
   "cell_type": "code",
   "execution_count": 1294,
   "metadata": {},
   "outputs": [
    {
     "data": {
      "text/plain": [
       "Index(['id', 'neighbourhood_group_cleansed', 'property_type', 'room_type',\n",
       "       'accommodates', 'bathrooms', 'bedrooms', 'beds', 'bed_type',\n",
       "       'square_feet', 'price', 'guests_included', 'extra_people',\n",
       "       'minimum_nights', 'maximum_nights', 'number_of_reviews',\n",
       "       'review_scores_rating', 'review_scores_accuracy',\n",
       "       'review_scores_cleanliness', 'review_scores_checkin',\n",
       "       'review_scores_communication', 'review_scores_location',\n",
       "       'review_scores_value', 'instant_bookable', 'cancellation_policy',\n",
       "       'logreviews', 'bedrooms_per_accommodates'],\n",
       "      dtype='object')"
      ]
     },
     "execution_count": 1294,
     "metadata": {},
     "output_type": "execute_result"
    }
   ],
   "source": [
    "values = {'bathrooms': 1.141376, 'bedrooms': 1.176869, 'beds': 1.571313}\n",
    "df = df.fillna(value=values)\n",
    "\n",
    "df['extra_people'] = df['extra_people'].replace('[\\$,]', '', regex=True).astype(float)\n",
    "\n",
    "df['logreviews'] = np.log(1 + df['number_of_reviews'])\n",
    "\n",
    "df['bedrooms_per_accommodates'] = df['bedrooms'] / df['accommodates']\n",
    "df.columns"
   ]
  },
  {
   "cell_type": "code",
   "execution_count": 1295,
   "metadata": {},
   "outputs": [
    {
     "data": {
      "text/plain": [
       "id                                  0\n",
       "neighbourhood_group_cleansed        0\n",
       "property_type                       0\n",
       "room_type                           0\n",
       "accommodates                        0\n",
       "bathrooms                           0\n",
       "bedrooms                            0\n",
       "beds                                0\n",
       "bed_type                            0\n",
       "square_feet                     33197\n",
       "price                               0\n",
       "guests_included                     0\n",
       "extra_people                        0\n",
       "minimum_nights                      0\n",
       "maximum_nights                      0\n",
       "number_of_reviews                   0\n",
       "review_scores_rating             7664\n",
       "review_scores_accuracy           7694\n",
       "review_scores_cleanliness        7679\n",
       "review_scores_checkin            7709\n",
       "review_scores_communication      7689\n",
       "review_scores_location           7708\n",
       "review_scores_value              7711\n",
       "instant_bookable                    0\n",
       "cancellation_policy                 0\n",
       "logreviews                          0\n",
       "bedrooms_per_accommodates           0\n",
       "dtype: int64"
      ]
     },
     "execution_count": 1295,
     "metadata": {},
     "output_type": "execute_result"
    }
   ],
   "source": [
    "df.isnull().sum()"
   ]
  },
  {
   "cell_type": "code",
   "execution_count": 1296,
   "metadata": {},
   "outputs": [],
   "source": [
    "#df['logreviews'].unique()"
   ]
  },
  {
   "cell_type": "code",
   "execution_count": 1297,
   "metadata": {},
   "outputs": [
    {
     "name": "stdout",
     "output_type": "stream",
     "text": [
      "amount of data original: 33538\n",
      "amount of data after removing \"few reviews\" properties: 33538\n"
     ]
    }
   ],
   "source": [
    "df = df.copy()\n",
    "print('amount of data original: ' + str(len(df)))\n",
    "#df = df[df['number_of_reviews'] > 10] ### <<---  Change 10 for any other number to change the minimum number of reviews you require\n",
    "print('amount of data after removing \"few reviews\" properties: ' + str(len(df)))"
   ]
  },
  {
   "cell_type": "code",
   "execution_count": 1298,
   "metadata": {},
   "outputs": [
    {
     "data": {
      "text/plain": [
       "Index(['id', 'neighbourhood_group_cleansed', 'property_type', 'room_type',\n",
       "       'accommodates', 'bathrooms', 'bedrooms', 'beds', 'bed_type',\n",
       "       'square_feet', 'price', 'guests_included', 'extra_people',\n",
       "       'minimum_nights', 'maximum_nights', 'number_of_reviews',\n",
       "       'review_scores_rating', 'review_scores_accuracy',\n",
       "       'review_scores_cleanliness', 'review_scores_checkin',\n",
       "       'review_scores_communication', 'review_scores_location',\n",
       "       'review_scores_value', 'instant_bookable', 'cancellation_policy',\n",
       "       'logreviews', 'bedrooms_per_accommodates'],\n",
       "      dtype='object')"
      ]
     },
     "execution_count": 1298,
     "metadata": {},
     "output_type": "execute_result"
    }
   ],
   "source": [
    "df.columns"
   ]
  },
  {
   "cell_type": "code",
   "execution_count": 1299,
   "metadata": {},
   "outputs": [
    {
     "name": "stdout",
     "output_type": "stream",
     "text": [
      "5\n",
      "3\n",
      "5\n",
      "29\n",
      "7\n",
      "33538 33538\n"
     ]
    }
   ],
   "source": [
    "from math import isnan\n",
    "\n",
    "def to_float(s):\n",
    "    try:\n",
    "        ret = float(s)\n",
    "    except:\n",
    "        ret = -1\n",
    "    if isnan(ret):\n",
    "        ret = -1\n",
    "    return ret\n",
    "\n",
    "def to_int(s):\n",
    "    try:\n",
    "        ret = int(s)\n",
    "    except:\n",
    "        ret = -1\n",
    "    return ret\n",
    "\n",
    "categories_nh = [x for x in list(set(df['neighbourhood_group_cleansed'])) if type(x) is str]\n",
    "print(len(categories_nh))\n",
    "\n",
    "categories_rt = [x for x in list(set(df['room_type'])) if type(x) is str]\n",
    "print(len(categories_rt))\n",
    "\n",
    "categories_bt = [x for x in list(set(df['bed_type'])) if type(x) is str]\n",
    "print(len(categories_bt))\n",
    "\n",
    "categories_pt = [x for x in list(set(df['property_type'])) if type(x) is str]\n",
    "print(len(categories_pt))\n",
    "\n",
    "#categories_nc = [x for x in list(set(df['neighbourhood_cleansed'])) if type(x) is str] #dont use\n",
    "#print(len(categories_nc))\n",
    "\n",
    "categories_cp = [x for x in list(set(df['cancellation_policy'])) if type(x) is str]\n",
    "print(len(categories_cp))\n",
    "\n",
    "def create_feature(row):\n",
    "    guest_num = to_int(row.guests_included)\n",
    "    guest_cap = to_int(row.extra_people)\n",
    "    bedrooms = to_int(row.bedrooms)\n",
    "    bathrooms = to_float(row.bathrooms)\n",
    "    review = to_float(row.review_scores_rating)\n",
    "    beds = to_int(row.beds)\n",
    "    number_of_reviews = to_int(row.number_of_reviews)\n",
    "    #zipcode = to_int(row.zipcode)\n",
    "    accommodates = to_int(row.accommodates)\n",
    "    #review_scores_cleanliness = to_int(row.review_scores_cleanliness)\n",
    "    #review_scores_location = to_int(row.review_scores_location)\n",
    "    #review_scores_value = to_int(row.review_scores_value)\n",
    "    #reviews_per_month = to_float(row.reviews_per_month) #dont use\n",
    "    minimum_nights = to_int(row.minimum_nights)\n",
    "    maximum_nights = to_int(row.maximum_nights)\n",
    "    \n",
    "    logreviews = to_float(row.logreviews)\n",
    "    bedrooms_per_accommodates = to_float(row.bedrooms_per_accommodates)\n",
    "    \n",
    "    one_hot_nh = [int(row.neighbourhood_group_cleansed == category) for category in categories_nh]\n",
    "    one_hot_rt = [int(row.room_type == category) for category in categories_rt]\n",
    "    one_hot_bt = [int(row.bed_type == category) for category in categories_bt]\n",
    "    one_hot_pt = [int(row.property_type == category) for category in categories_pt]\n",
    "    #one_hot_nc = [int(row.neighbourhood_cleansed == category) for category in categories_nc] #dont use\n",
    "    one_hot_cp = [int(row.cancellation_policy == category) for category in categories_cp]\n",
    "    \n",
    "    \n",
    "    return [guest_num, guest_cap, bedrooms, bathrooms, review, beds, number_of_reviews, accommodates,  minimum_nights, maximum_nights, logreviews, bedrooms_per_accommodates] + one_hot_nh + one_hot_rt + one_hot_bt + one_hot_pt + one_hot_cp\n",
    "\n",
    "train_X, train_y = [], []\n",
    "for (idx, row) in df.iterrows():\n",
    "    price = float(row.price)\n",
    "    feature = create_feature(row)\n",
    "\n",
    "    train_X.append(feature)\n",
    "    train_y.append(price)\n",
    "\n",
    "print(len(train_X), len(train_y))"
   ]
  },
  {
   "cell_type": "code",
   "execution_count": null,
   "metadata": {},
   "outputs": [],
   "source": []
  },
  {
   "cell_type": "code",
   "execution_count": 1300,
   "metadata": {},
   "outputs": [
    {
     "data": {
      "text/plain": [
       "LinearRegression(copy_X=True, fit_intercept=True, n_jobs=None, normalize=False)"
      ]
     },
     "execution_count": 1300,
     "metadata": {},
     "output_type": "execute_result"
    }
   ],
   "source": [
    "from sklearn import linear_model\n",
    "\n",
    "regr = linear_model.LinearRegression()\n",
    "regr.fit(train_X, train_y)"
   ]
  },
  {
   "cell_type": "code",
   "execution_count": 1301,
   "metadata": {},
   "outputs": [
    {
     "name": "stderr",
     "output_type": "stream",
     "text": [
      "/Library/Frameworks/Python.framework/Versions/3.7/lib/python3.7/site-packages/IPython/core/interactiveshell.py:3049: DtypeWarning: Columns (30) have mixed types. Specify dtype option on import or set low_memory=False.\n",
      "  interactivity=interactivity, compiler=compiler, result=result)\n",
      "/Library/Frameworks/Python.framework/Versions/3.7/lib/python3.7/site-packages/ipykernel_launcher.py:6: SettingWithCopyWarning: \n",
      "A value is trying to be set on a copy of a slice from a DataFrame.\n",
      "Try using .loc[row_indexer,col_indexer] = value instead\n",
      "\n",
      "See the caveats in the documentation: http://pandas.pydata.org/pandas-docs/stable/indexing.html#indexing-view-versus-copy\n",
      "  \n",
      "/Library/Frameworks/Python.framework/Versions/3.7/lib/python3.7/site-packages/ipykernel_launcher.py:8: SettingWithCopyWarning: \n",
      "A value is trying to be set on a copy of a slice from a DataFrame.\n",
      "Try using .loc[row_indexer,col_indexer] = value instead\n",
      "\n",
      "See the caveats in the documentation: http://pandas.pydata.org/pandas-docs/stable/indexing.html#indexing-view-versus-copy\n",
      "  \n"
     ]
    }
   ],
   "source": [
    "import pandas as pd\n",
    "\n",
    "test_df = pd.read_csv('test.csv')\n",
    "test_df.columns\n",
    "\n",
    "X_test['logreviews'] = np.log(1 + X_test['number_of_reviews'])\n",
    "\n",
    "X_test['bedrooms_per_accommodates'] = X_test['bedrooms'] / X_test['accommodates']\n",
    "\n",
    "test_df = X_test"
   ]
  },
  {
   "cell_type": "code",
   "execution_count": 1302,
   "metadata": {},
   "outputs": [],
   "source": [
    "test_ids, test_X = [], []\n",
    "for (idx, row) in test_df.iterrows():\n",
    "    feature = create_feature(row)\n",
    "    test_ids.append(row.id)\n",
    "    test_X.append(feature)\n",
    "test_y = regr.predict(test_X)"
   ]
  },
  {
   "cell_type": "code",
   "execution_count": 1303,
   "metadata": {},
   "outputs": [
    {
     "data": {
      "text/plain": [
       "array([173.54880592, 218.97007224, 172.90040362,  73.77096154,\n",
       "        55.0299028 , 117.88571912,  29.73156887, 130.41882998,\n",
       "        30.6156898 , 120.77195572])"
      ]
     },
     "execution_count": 1303,
     "metadata": {},
     "output_type": "execute_result"
    }
   ],
   "source": [
    "test_y[0:10]"
   ]
  },
  {
   "cell_type": "code",
   "execution_count": 1304,
   "metadata": {},
   "outputs": [
    {
     "name": "stdout",
     "output_type": "stream",
     "text": [
      "8385\n"
     ]
    }
   ],
   "source": [
    "print(len(test_y))"
   ]
  },
  {
   "cell_type": "code",
   "execution_count": 1305,
   "metadata": {},
   "outputs": [],
   "source": [
    "output_df = pd.DataFrame()\n",
    "output_df['Id'] = test_ids\n",
    "output_df['Predicted'] = test_y\n",
    "output_df.to_csv('simple_linear_regression_baseline.csv', index = False)"
   ]
  },
  {
   "cell_type": "code",
   "execution_count": 1306,
   "metadata": {},
   "outputs": [
    {
     "data": {
      "text/html": [
       "<div>\n",
       "<style scoped>\n",
       "    .dataframe tbody tr th:only-of-type {\n",
       "        vertical-align: middle;\n",
       "    }\n",
       "\n",
       "    .dataframe tbody tr th {\n",
       "        vertical-align: top;\n",
       "    }\n",
       "\n",
       "    .dataframe thead th {\n",
       "        text-align: right;\n",
       "    }\n",
       "</style>\n",
       "<table border=\"1\" class=\"dataframe\">\n",
       "  <thead>\n",
       "    <tr style=\"text-align: right;\">\n",
       "      <th></th>\n",
       "      <th>Id</th>\n",
       "      <th>Predicted</th>\n",
       "    </tr>\n",
       "  </thead>\n",
       "  <tbody>\n",
       "    <tr>\n",
       "      <th>0</th>\n",
       "      <td>4464418</td>\n",
       "      <td>173.548806</td>\n",
       "    </tr>\n",
       "    <tr>\n",
       "      <th>1</th>\n",
       "      <td>8566656</td>\n",
       "      <td>218.970072</td>\n",
       "    </tr>\n",
       "    <tr>\n",
       "      <th>2</th>\n",
       "      <td>8719005</td>\n",
       "      <td>172.900404</td>\n",
       "    </tr>\n",
       "    <tr>\n",
       "      <th>3</th>\n",
       "      <td>324517</td>\n",
       "      <td>73.770962</td>\n",
       "    </tr>\n",
       "    <tr>\n",
       "      <th>4</th>\n",
       "      <td>7395202</td>\n",
       "      <td>55.029903</td>\n",
       "    </tr>\n",
       "  </tbody>\n",
       "</table>\n",
       "</div>"
      ],
      "text/plain": [
       "        Id   Predicted\n",
       "0  4464418  173.548806\n",
       "1  8566656  218.970072\n",
       "2  8719005  172.900404\n",
       "3   324517   73.770962\n",
       "4  7395202   55.029903"
      ]
     },
     "execution_count": 1306,
     "metadata": {},
     "output_type": "execute_result"
    }
   ],
   "source": [
    "output_df.head()"
   ]
  },
  {
   "cell_type": "code",
   "execution_count": 1307,
   "metadata": {},
   "outputs": [],
   "source": [
    "output_df = output_df.sort_values(by='Id', ascending=True)\n",
    "output_arr = output_df['Id'].to_numpy()\n",
    "RMSE_test = output_df['Predicted'].to_numpy()"
   ]
  },
  {
   "cell_type": "code",
   "execution_count": 1308,
   "metadata": {},
   "outputs": [],
   "source": [
    "actual_X = og_df.loc[og_df['id'].isin(output_arr)]\n",
    "RMSE_vali = actual_X.sort_values(by='id', ascending=True)['price'].to_numpy()"
   ]
  },
  {
   "cell_type": "code",
   "execution_count": 1309,
   "metadata": {},
   "outputs": [
    {
     "name": "stdout",
     "output_type": "stream",
     "text": [
      "96.21043663078224\n"
     ]
    }
   ],
   "source": [
    "actual = RMSE_vali\n",
    "predicted = RMSE_test\n",
    "\n",
    "mse = mean_squared_error(actual, predicted)\n",
    "\n",
    "rmse = math.sqrt(mse)\n",
    "\n",
    "print(rmse)"
   ]
  },
  {
   "cell_type": "code",
   "execution_count": 1310,
   "metadata": {},
   "outputs": [
    {
     "data": {
      "text/html": [
       "<div>\n",
       "<style scoped>\n",
       "    .dataframe tbody tr th:only-of-type {\n",
       "        vertical-align: middle;\n",
       "    }\n",
       "\n",
       "    .dataframe tbody tr th {\n",
       "        vertical-align: top;\n",
       "    }\n",
       "\n",
       "    .dataframe thead th {\n",
       "        text-align: right;\n",
       "    }\n",
       "</style>\n",
       "<table border=\"1\" class=\"dataframe\">\n",
       "  <thead>\n",
       "    <tr style=\"text-align: right;\">\n",
       "      <th></th>\n",
       "      <th>id</th>\n",
       "      <th>name</th>\n",
       "      <th>summary</th>\n",
       "      <th>space</th>\n",
       "      <th>description</th>\n",
       "      <th>experiences_offered</th>\n",
       "      <th>neighborhood_overview</th>\n",
       "      <th>notes</th>\n",
       "      <th>transit</th>\n",
       "      <th>access</th>\n",
       "      <th>...</th>\n",
       "      <th>review_scores_communication</th>\n",
       "      <th>review_scores_location</th>\n",
       "      <th>review_scores_value</th>\n",
       "      <th>instant_bookable</th>\n",
       "      <th>is_business_travel_ready</th>\n",
       "      <th>cancellation_policy</th>\n",
       "      <th>require_guest_profile_picture</th>\n",
       "      <th>require_guest_phone_verification</th>\n",
       "      <th>calculated_host_listings_count</th>\n",
       "      <th>reviews_per_month</th>\n",
       "    </tr>\n",
       "  </thead>\n",
       "  <tbody>\n",
       "    <tr>\n",
       "      <th>8932</th>\n",
       "      <td>26571746</td>\n",
       "      <td>Charming apartment in Brooklyn</td>\n",
       "      <td>Two bedroom apartment in Boerum Hill (Brooklyn...</td>\n",
       "      <td>NaN</td>\n",
       "      <td>Two bedroom apartment in Boerum Hill (Brooklyn...</td>\n",
       "      <td>none</td>\n",
       "      <td>NaN</td>\n",
       "      <td>NaN</td>\n",
       "      <td>NaN</td>\n",
       "      <td>NaN</td>\n",
       "      <td>...</td>\n",
       "      <td>10.0</td>\n",
       "      <td>10.0</td>\n",
       "      <td>8.0</td>\n",
       "      <td>t</td>\n",
       "      <td>f</td>\n",
       "      <td>flexible</td>\n",
       "      <td>f</td>\n",
       "      <td>f</td>\n",
       "      <td>1</td>\n",
       "      <td>0.75</td>\n",
       "    </tr>\n",
       "    <tr>\n",
       "      <th>27804</th>\n",
       "      <td>26424595</td>\n",
       "      <td>Cozy Harlem Traveler Room 2</td>\n",
       "      <td>Cozy Harlem Traveler Room 2 features all the l...</td>\n",
       "      <td>NaN</td>\n",
       "      <td>Cozy Harlem Traveler Room 2 features all the l...</td>\n",
       "      <td>none</td>\n",
       "      <td>Trains Luckily you will have access to one of ...</td>\n",
       "      <td>NaN</td>\n",
       "      <td>The quickest way to get around the city from o...</td>\n",
       "      <td>You can use the Kitchen, Bathroom and Living r...</td>\n",
       "      <td>...</td>\n",
       "      <td>10.0</td>\n",
       "      <td>9.0</td>\n",
       "      <td>9.0</td>\n",
       "      <td>t</td>\n",
       "      <td>f</td>\n",
       "      <td>moderate</td>\n",
       "      <td>f</td>\n",
       "      <td>f</td>\n",
       "      <td>1</td>\n",
       "      <td>0.94</td>\n",
       "    </tr>\n",
       "    <tr>\n",
       "      <th>31150</th>\n",
       "      <td>3902791</td>\n",
       "      <td>Luxury West Village 1 bdrm w/ views</td>\n",
       "      <td>Beautiful, sun-drenched apartment in the heart...</td>\n",
       "      <td>-Huge bedroom with 2 windows, a full closet, a...</td>\n",
       "      <td>Beautiful, sun-drenched apartment in the heart...</td>\n",
       "      <td>none</td>\n",
       "      <td>NaN</td>\n",
       "      <td>NaN</td>\n",
       "      <td>NaN</td>\n",
       "      <td>NaN</td>\n",
       "      <td>...</td>\n",
       "      <td>10.0</td>\n",
       "      <td>10.0</td>\n",
       "      <td>10.0</td>\n",
       "      <td>f</td>\n",
       "      <td>f</td>\n",
       "      <td>moderate</td>\n",
       "      <td>f</td>\n",
       "      <td>f</td>\n",
       "      <td>1</td>\n",
       "      <td>0.10</td>\n",
       "    </tr>\n",
       "    <tr>\n",
       "      <th>24241</th>\n",
       "      <td>24558128</td>\n",
       "      <td>midtown Studio</td>\n",
       "      <td>.</td>\n",
       "      <td>all</td>\n",
       "      <td>. all</td>\n",
       "      <td>none</td>\n",
       "      <td>NaN</td>\n",
       "      <td>NaN</td>\n",
       "      <td>NaN</td>\n",
       "      <td>NaN</td>\n",
       "      <td>...</td>\n",
       "      <td>NaN</td>\n",
       "      <td>NaN</td>\n",
       "      <td>NaN</td>\n",
       "      <td>f</td>\n",
       "      <td>f</td>\n",
       "      <td>flexible</td>\n",
       "      <td>f</td>\n",
       "      <td>f</td>\n",
       "      <td>2</td>\n",
       "      <td>NaN</td>\n",
       "    </tr>\n",
       "    <tr>\n",
       "      <th>2479</th>\n",
       "      <td>9156676</td>\n",
       "      <td>2 Bedrooms 100% Private</td>\n",
       "      <td>2 Bedrooms apartment right next to the train/s...</td>\n",
       "      <td>(In December last week, I will accept 1 or 2 w...</td>\n",
       "      <td>2 Bedrooms apartment right next to the train/s...</td>\n",
       "      <td>none</td>\n",
       "      <td>Wonderful and mix neighborhood, very close to ...</td>\n",
       "      <td>NaN</td>\n",
       "      <td>Shopping area and Subway station is just aroun...</td>\n",
       "      <td>Access to entire 2 bedroom apartment that you ...</td>\n",
       "      <td>...</td>\n",
       "      <td>10.0</td>\n",
       "      <td>8.0</td>\n",
       "      <td>8.0</td>\n",
       "      <td>f</td>\n",
       "      <td>f</td>\n",
       "      <td>strict_14_with_grace_period</td>\n",
       "      <td>f</td>\n",
       "      <td>f</td>\n",
       "      <td>4</td>\n",
       "      <td>1.83</td>\n",
       "    </tr>\n",
       "  </tbody>\n",
       "</table>\n",
       "<p>5 rows × 64 columns</p>\n",
       "</div>"
      ],
      "text/plain": [
       "             id                                 name  \\\n",
       "8932   26571746       Charming apartment in Brooklyn   \n",
       "27804  26424595          Cozy Harlem Traveler Room 2   \n",
       "31150   3902791  Luxury West Village 1 bdrm w/ views   \n",
       "24241  24558128                       midtown Studio   \n",
       "2479    9156676              2 Bedrooms 100% Private   \n",
       "\n",
       "                                                 summary  \\\n",
       "8932   Two bedroom apartment in Boerum Hill (Brooklyn...   \n",
       "27804  Cozy Harlem Traveler Room 2 features all the l...   \n",
       "31150  Beautiful, sun-drenched apartment in the heart...   \n",
       "24241                                                  .   \n",
       "2479   2 Bedrooms apartment right next to the train/s...   \n",
       "\n",
       "                                                   space  \\\n",
       "8932                                                 NaN   \n",
       "27804                                                NaN   \n",
       "31150  -Huge bedroom with 2 windows, a full closet, a...   \n",
       "24241                                                all   \n",
       "2479   (In December last week, I will accept 1 or 2 w...   \n",
       "\n",
       "                                             description experiences_offered  \\\n",
       "8932   Two bedroom apartment in Boerum Hill (Brooklyn...                none   \n",
       "27804  Cozy Harlem Traveler Room 2 features all the l...                none   \n",
       "31150  Beautiful, sun-drenched apartment in the heart...                none   \n",
       "24241                                              . all                none   \n",
       "2479   2 Bedrooms apartment right next to the train/s...                none   \n",
       "\n",
       "                                   neighborhood_overview notes  \\\n",
       "8932                                                 NaN   NaN   \n",
       "27804  Trains Luckily you will have access to one of ...   NaN   \n",
       "31150                                                NaN   NaN   \n",
       "24241                                                NaN   NaN   \n",
       "2479   Wonderful and mix neighborhood, very close to ...   NaN   \n",
       "\n",
       "                                                 transit  \\\n",
       "8932                                                 NaN   \n",
       "27804  The quickest way to get around the city from o...   \n",
       "31150                                                NaN   \n",
       "24241                                                NaN   \n",
       "2479   Shopping area and Subway station is just aroun...   \n",
       "\n",
       "                                                  access  ...  \\\n",
       "8932                                                 NaN  ...   \n",
       "27804  You can use the Kitchen, Bathroom and Living r...  ...   \n",
       "31150                                                NaN  ...   \n",
       "24241                                                NaN  ...   \n",
       "2479   Access to entire 2 bedroom apartment that you ...  ...   \n",
       "\n",
       "      review_scores_communication review_scores_location  review_scores_value  \\\n",
       "8932                         10.0                   10.0                  8.0   \n",
       "27804                        10.0                    9.0                  9.0   \n",
       "31150                        10.0                   10.0                 10.0   \n",
       "24241                         NaN                    NaN                  NaN   \n",
       "2479                         10.0                    8.0                  8.0   \n",
       "\n",
       "      instant_bookable is_business_travel_ready          cancellation_policy  \\\n",
       "8932                 t                        f                     flexible   \n",
       "27804                t                        f                     moderate   \n",
       "31150                f                        f                     moderate   \n",
       "24241                f                        f                     flexible   \n",
       "2479                 f                        f  strict_14_with_grace_period   \n",
       "\n",
       "      require_guest_profile_picture require_guest_phone_verification  \\\n",
       "8932                              f                                f   \n",
       "27804                             f                                f   \n",
       "31150                             f                                f   \n",
       "24241                             f                                f   \n",
       "2479                              f                                f   \n",
       "\n",
       "      calculated_host_listings_count  reviews_per_month  \n",
       "8932                               1               0.75  \n",
       "27804                              1               0.94  \n",
       "31150                              1               0.10  \n",
       "24241                              2                NaN  \n",
       "2479                               4               1.83  \n",
       "\n",
       "[5 rows x 64 columns]"
      ]
     },
     "execution_count": 1310,
     "metadata": {},
     "output_type": "execute_result"
    }
   ],
   "source": [
    "X_train.head()"
   ]
  },
  {
   "cell_type": "code",
   "execution_count": 1311,
   "metadata": {
    "scrolled": true
   },
   "outputs": [],
   "source": [
    "import numpy as np\n",
    "\n",
    "mean = np.mean(list(df['price']))"
   ]
  },
  {
   "cell_type": "code",
   "execution_count": 1312,
   "metadata": {},
   "outputs": [],
   "source": [
    "output_df = pd.DataFrame()\n",
    "output_df['Id'] = test_ids\n",
    "output_df['Predicted'] = [mean for i in range(len(test_ids))]\n",
    "output_df.to_csv('mean_value_baseline.csv', index = False)"
   ]
  },
  {
   "cell_type": "code",
   "execution_count": 1313,
   "metadata": {},
   "outputs": [
    {
     "data": {
      "text/html": [
       "<div>\n",
       "<style scoped>\n",
       "    .dataframe tbody tr th:only-of-type {\n",
       "        vertical-align: middle;\n",
       "    }\n",
       "\n",
       "    .dataframe tbody tr th {\n",
       "        vertical-align: top;\n",
       "    }\n",
       "\n",
       "    .dataframe thead th {\n",
       "        text-align: right;\n",
       "    }\n",
       "</style>\n",
       "<table border=\"1\" class=\"dataframe\">\n",
       "  <thead>\n",
       "    <tr style=\"text-align: right;\">\n",
       "      <th></th>\n",
       "      <th>Id</th>\n",
       "      <th>Predicted</th>\n",
       "    </tr>\n",
       "  </thead>\n",
       "  <tbody>\n",
       "    <tr>\n",
       "      <th>0</th>\n",
       "      <td>4464418</td>\n",
       "      <td>145.177291</td>\n",
       "    </tr>\n",
       "    <tr>\n",
       "      <th>1</th>\n",
       "      <td>8566656</td>\n",
       "      <td>145.177291</td>\n",
       "    </tr>\n",
       "    <tr>\n",
       "      <th>2</th>\n",
       "      <td>8719005</td>\n",
       "      <td>145.177291</td>\n",
       "    </tr>\n",
       "    <tr>\n",
       "      <th>3</th>\n",
       "      <td>324517</td>\n",
       "      <td>145.177291</td>\n",
       "    </tr>\n",
       "    <tr>\n",
       "      <th>4</th>\n",
       "      <td>7395202</td>\n",
       "      <td>145.177291</td>\n",
       "    </tr>\n",
       "  </tbody>\n",
       "</table>\n",
       "</div>"
      ],
      "text/plain": [
       "        Id   Predicted\n",
       "0  4464418  145.177291\n",
       "1  8566656  145.177291\n",
       "2  8719005  145.177291\n",
       "3   324517  145.177291\n",
       "4  7395202  145.177291"
      ]
     },
     "execution_count": 1313,
     "metadata": {},
     "output_type": "execute_result"
    }
   ],
   "source": [
    "output_df.head()"
   ]
  },
  {
   "cell_type": "code",
   "execution_count": null,
   "metadata": {},
   "outputs": [],
   "source": []
  }
 ],
 "metadata": {
  "kernelspec": {
   "display_name": "Python 3",
   "language": "python",
   "name": "python3"
  },
  "language_info": {
   "codemirror_mode": {
    "name": "ipython",
    "version": 3
   },
   "file_extension": ".py",
   "mimetype": "text/x-python",
   "name": "python",
   "nbconvert_exporter": "python",
   "pygments_lexer": "ipython3",
   "version": "3.7.3"
  }
 },
 "nbformat": 4,
 "nbformat_minor": 2
}
